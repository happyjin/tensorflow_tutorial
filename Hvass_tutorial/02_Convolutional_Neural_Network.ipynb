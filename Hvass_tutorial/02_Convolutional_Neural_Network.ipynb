{
 "cells": [
  {
   "cell_type": "markdown",
   "metadata": {
    "collapsed": true
   },
   "source": [
    "# Imports"
   ]
  },
  {
   "cell_type": "code",
   "execution_count": 229,
   "metadata": {},
   "outputs": [],
   "source": [
    "%matplotlib inline\n",
    "import matplotlib.pyplot as plt\n",
    "import tensorflow as tf\n",
    "import numpy as np\n",
    "import time\n",
    "import math\n",
    "from datetime import timedelta\n",
    "from sklearn.metrics import confusion_matrix\n",
    "from tensorflow.examples.tutorials.mnist import input_data"
   ]
  },
  {
   "cell_type": "markdown",
   "metadata": {},
   "source": [
    "# Configuration of Neural Network"
   ]
  },
  {
   "cell_type": "code",
   "execution_count": 182,
   "metadata": {},
   "outputs": [],
   "source": [
    "# convolutional layer 1\n",
    "filter_size1 = 5\n",
    "num_filters1 = 16\n",
    "\n",
    "# convolutional layter 2\n",
    "filter_size2 = 5\n",
    "num_filters2 = 36\n",
    "\n",
    "# full-connected layer\n",
    "fc_size = 128"
   ]
  },
  {
   "cell_type": "markdown",
   "metadata": {},
   "source": [
    "# Load Data"
   ]
  },
  {
   "cell_type": "code",
   "execution_count": 183,
   "metadata": {},
   "outputs": [
    {
     "name": "stdout",
     "output_type": "stream",
     "text": [
      "Extracting data/MNIST/train-images-idx3-ubyte.gz\n"
     ]
    },
    {
     "name": "stdout",
     "output_type": "stream",
     "text": [
      "Extracting data/MNIST/train-labels-idx1-ubyte.gz\nExtracting data/MNIST/t10k-images-idx3-ubyte.gz\nExtracting data/MNIST/t10k-labels-idx1-ubyte.gz\n"
     ]
    }
   ],
   "source": [
    "data = input_data.read_data_sets(\"data/MNIST/\", one_hot=True)"
   ]
  },
  {
   "cell_type": "code",
   "execution_count": 184,
   "metadata": {},
   "outputs": [
    {
     "name": "stdout",
     "output_type": "stream",
     "text": [
      "size of:\n- training-set:\t55000\n- Test-set:\t\t10000\n- Validation-set:\t5000\n"
     ]
    }
   ],
   "source": [
    "print(\"size of:\")\n",
    "print(\"- training-set:\\t{}\".format(len(data.train.labels)))\n",
    "print(\"- Test-set:\\t\\t{}\".format(len(data.test.labels)))\n",
    "print(\"- Validation-set:\\t{}\".format(len(data.validation.labels)))"
   ]
  },
  {
   "cell_type": "code",
   "execution_count": 185,
   "metadata": {},
   "outputs": [],
   "source": [
    "data.test.cls = np.argmax(data.test.labels, axis=1)"
   ]
  },
  {
   "cell_type": "markdown",
   "metadata": {},
   "source": [
    "## Data Dimensions"
   ]
  },
  {
   "cell_type": "code",
   "execution_count": 186,
   "metadata": {},
   "outputs": [],
   "source": [
    "img_size = 28\n",
    "img_size_flat = img_size * img_size\n",
    "img_shape = (img_size, img_size)\n",
    "num_channels = 1\n",
    "num_classes = 10"
   ]
  },
  {
   "cell_type": "code",
   "execution_count": 187,
   "metadata": {},
   "outputs": [],
   "source": [
    "def plot_images(images, cls_true, cls_pred=None):\n",
    "    assert len(images) == len(cls_true) == 9\n",
    "    \n",
    "    # create figure with 3x3 sub-plots\n",
    "    fig, axes = plt.subplots(3, 3)\n",
    "    fig.subplots_adjust(hspace=0.3, wspace=0.3)\n",
    "    \n",
    "    for i, ax in enumerate(axes.flat):\n",
    "        # plot the image\n",
    "        ax.imshow(images[i].reshape(img_shape), cmap='binary')\n",
    "        # show the true and predicted classes\n",
    "        if cls_pred is None:\n",
    "            xlabel = \"True: {0}\".format(cls_true[i])\n",
    "        else:\n",
    "            xlabel = \"True: {0}, Pred: {1}\".format(cls_true[i], cls_pred[i])\n",
    "        ax.set_xlabel(xlabel)\n",
    "        # remove ticks from the plot\n",
    "        ax.set_xticks([])\n",
    "        ax.set_yticks([])\n",
    "    plt.show()"
   ]
  },
  {
   "cell_type": "markdown",
   "metadata": {},
   "source": [
    "## Plot a few images to see if data is correct"
   ]
  },
  {
   "cell_type": "code",
   "execution_count": 188,
   "metadata": {},
   "outputs": [
    {
     "data": {
      "image/png": "[encoded data removed]",
      "text/plain": [
       "<matplotlib.figure.Figure at 0x10d628c90>"
      ]
     },
     "metadata": {},
     "output_type": "display_data"
    }
   ],
   "source": [
    "# get the first set images from the test-set\n",
    "images = data.test.images[0:9]\n",
    "# get tht true classes for those images\n",
    "cls_true = data.test.cls[0:9]\n",
    "# plot the images and labels using the lot_images function\n",
    "plot_images(images=images, cls_true=cls_true)"
   ]
  },
  {
   "cell_type": "markdown",
   "metadata": {},
   "source": [
    "# Tensorflow Graph"
   ]
  },
  {
   "cell_type": "markdown",
   "metadata": {},
   "source": [
    "## helper-functions for creating new variables\n",
    "create graph Variables in Tensorflow and initialize them"
   ]
  },
  {
   "cell_type": "code",
   "execution_count": 189,
   "metadata": {},
   "outputs": [],
   "source": [
    "# define weight variables and initialize it\n",
    "def new_weights(shape):\n",
    "    return tf.Variable(tf.truncated_normal(shape, stddev=0.05))\n",
    "\n",
    "# define biases variables and initialize it\n",
    "def new_biases(length):\n",
    "    return tf.Variable(tf.constant(0.05, shape=[length]))"
   ]
  },
  {
   "cell_type": "markdown",
   "metadata": {},
   "source": [
    "## helper-function for creating a new Convolutional Layer\n",
    "The function creates a new convolutional layer in the computational graph for Tensorflow. Nothing is actually calculated here, we are just adding the mathmatical formulas to the Tensorflow graph"
   ]
  },
  {
   "cell_type": "code",
   "execution_count": 190,
   "metadata": {},
   "outputs": [],
   "source": [
    "def new_conv_layer(input,   # the previous layer\n",
    "                   num_input_channels, # Num. channels in prev. layer\n",
    "                   filter_size, # width and height of each filter\n",
    "                   num_filters, # number of filters\n",
    "                   use_pooling=True): # use 2x2 max-pooling\n",
    "    # shape of filter-weithts for the convolution\n",
    "    # this format is determined by the Tensorflow API, that is \n",
    "    # [filter_height, filter_width, in_channels, out_channels]\n",
    "    shape = [filter_size, filter_size, num_input_channels, num_filters]\n",
    "    \n",
    "    # create new weights and initialize it, also known as filters with the given shape\n",
    "    weights = new_weights(shape=shape)\n",
    "    \n",
    "    # create new biases, one for each filter\n",
    "    biases = new_biases(length=num_filters)\n",
    "    \n",
    "    # create the TensorFlow operation for convolution\n",
    "    # strides: A list of `ints`. 1-D tensor of length 4.\n",
    "    # note that the strides are set to 1 in all dimensions\n",
    "    # the first and last stride must always be 1\n",
    "    # because the first is for the image-number and the last\n",
    "    # is for input-channel. But e.g. strides=[1,2,2,1] would \n",
    "    # mean [img_num, x-axis_stride, y-axis_stride, input_channel]\n",
    "    # padding='SAME': means the input image is padded with zeroes \n",
    "    # so the size of the output is the same\n",
    "    layer = tf.nn.conv2d(input=input,\n",
    "                         filter=weights,\n",
    "                         strides=[1, 1, 1, 1],\n",
    "                         padding='SAME')\n",
    "    \n",
    "    # add the biases to the results of convolution. A bias-value is added to each filter-channel\n",
    "    layer += biases\n",
    "    \n",
    "    # Use pooling to down-sampling the image resolution\n",
    "    # this is 2x2 max-pooling, which means that we consider 2x2 windows and select the\n",
    "    # largest value in each window. Then we move 2 pixels for the next window\n",
    "    if use_pooling:\n",
    "        layer = tf.nn.max_pool(value=layer,\n",
    "                               ksize=[1, 2, 2, 1],\n",
    "                               strides=[1, 2, 2, 1],\n",
    "                               padding='SAME')\n",
    "    \n",
    "    # Rectified Linear Unit(ReLU)\n",
    "    # It calculates max(x,0) for each input pixel x.\n",
    "    # since relu(max_pool(x)) == max_pool(relu(x)) we can\n",
    "    # save 75% of the relu-operations by max-pooling first\n",
    "    layer = tf.nn.relu(layer)\n",
    "    \n",
    "    # return both the resulting layer and the filter-weights\n",
    "    # because we will plot the weights lagter\n",
    "    return layer, weights"
   ]
  },
  {
   "cell_type": "markdown",
   "metadata": {},
   "source": [
    "## helper-function for flattening a layer\n",
    "A convolutional layer produces an output tensor with 4 dimensions. we will add fully-connected layers after the convolutional layers, so we need to reduce the 4-D tensor to 2-D which can be used as input to the fully-connected layer."
   ]
  },
  {
   "cell_type": "code",
   "execution_count": 191,
   "metadata": {},
   "outputs": [],
   "source": [
    "def flatten_layer(layer):\n",
    "    # get the shape of input layer\n",
    "    layer_shape = layer.get_shape()\n",
    "    \n",
    "    # The shape of the input layer is assumed to be:\n",
    "    # layer_shape == [num_images, img_height, img_width, num_channels]\n",
    "    \n",
    "    # the number of features is: img_height * img_width * img_channels\n",
    "    # we can use a function from TensorFlow to calculate this\n",
    "    num_features = layer_shape[1:4].num_elements()\n",
    "    \n",
    "    # reshape the layer to [num_images, num_features]\n",
    "    # -1 means the size in that dimension is calculated\n",
    "    layer_flat = tf.reshape(layer, [-1, num_features])\n",
    "    \n",
    "    # return both the flattened layer and the number of features\n",
    "    return layer_flat, num_features"
   ]
  },
  {
   "cell_type": "markdown",
   "metadata": {},
   "source": [
    "## helper-function for creating a new Fully-connected layer\n",
    "<p>This function creates a new fully-connected layer in the computational graph for TensorFlow. Nothing is actually calculated here. We are just adding the mathmatical formulars to the TensorFlow graph.\n",
    "</p>\n",
    "It is assumed that the input is a 2-D tensor of shape [num_images, num_inputs]. The output is a 2-D tensor of shape [num_images, num_outputs]"
   ]
  },
  {
   "cell_type": "code",
   "execution_count": 192,
   "metadata": {},
   "outputs": [],
   "source": [
    "def new_fc_layer(input, # the previous layer\n",
    "                 num_inputs, # num of inputs from prev. layer\n",
    "                 num_outputs, # num of outputs\n",
    "                 use_relu=True): # use Rectified Linear Unit (ReLU)?\n",
    "    \n",
    "    # create new weights and biases and initialize them \n",
    "    weights = new_weights(shape=[num_inputs, num_outputs])\n",
    "    biases = new_biases(length=num_outputs)\n",
    "    \n",
    "    # calculate the layer as the matrix multiplication of the input and weights, \n",
    "    # and then add the bias-values\n",
    "    layer = tf.matmul(input, weights) + biases\n",
    "    \n",
    "    # Use ReLU?\n",
    "    if use_relu:\n",
    "        layer = tf.nn.relu(layer)\n",
    "        \n",
    "    return layer"
   ]
  },
  {
   "cell_type": "markdown",
   "metadata": {},
   "source": [
    "## placeholder variables\n",
    "placeholder variables serve as the input to the TensorFlow computational graph that we may change each time we excute the graph. We call this the placeholder variables."
   ]
  },
  {
   "cell_type": "code",
   "execution_count": 193,
   "metadata": {},
   "outputs": [],
   "source": [
    "# [None, img_size_flat]: None means the tensor may hold arbitrary number of images with\n",
    "# each image being a vector of length img_size_flat\n",
    "x = tf.placeholder(tf.float32, shape=[None, img_size_flat], name='x')\n",
    "\n",
    "# Since the convolutional layers expect x to be encoded as a 4-D tensor so we have to reshape it instead\n",
    "# [num_images, img_height, img_width, num_channels].\n",
    "x_image = tf.reshape(x, [-1, img_size, img_size, num_channels])\n",
    "\n",
    "# placeholder variable for the true labels associated with the images that were\n",
    "# input in the placeholder variable x\n",
    "y_true = tf.placeholder(tf.float32, shape=[None, num_classes], name='y_true')\n",
    "# placeholder variable for true class-number\n",
    "y_true_cls = tf.argmax(y_true, axis=1)"
   ]
  },
  {
   "cell_type": "markdown",
   "metadata": {},
   "source": [
    "## convolutional layer 1\n",
    "create the first convolutional layer. It takes x_image as input and creates num_filters1 different filters. each have width and height eqaul to filter_size1. Finally, we utilize down-sampling and 2x2 max-pooling."
   ]
  },
  {
   "cell_type": "code",
   "execution_count": 194,
   "metadata": {},
   "outputs": [],
   "source": [
    "layer_conv1, weights_conv1 = new_conv_layer(input=x_image,\n",
    "                                            num_input_channels=num_channels,\n",
    "                                            filter_size=filter_size1,\n",
    "                                            num_filters=num_filters1,\n",
    "                                            use_pooling=True)"
   ]
  },
  {
   "cell_type": "code",
   "execution_count": 195,
   "metadata": {},
   "outputs": [
    {
     "data": {
      "text/plain": [
       "<tf.Tensor 'Relu_9:0' shape=(?, 14, 14, 16) dtype=float32>"
      ]
     },
     "execution_count": 195,
     "metadata": {},
     "output_type": "execute_result"
    }
   ],
   "source": [
    "# check the shape of tensor that is (?,14,14,16) which means that\n",
    "# the output is an arbitrary number of images (signed by ?)\n",
    "layer_conv1"
   ]
  },
  {
   "cell_type": "markdown",
   "metadata": {},
   "source": [
    "## Convolutional layer2\n",
    "create the second convolutional layer, which takes as input the output from the first convolutional layer. The numebr of input channels corresponds to the number of filters in the first convolutional layer"
   ]
  },
  {
   "cell_type": "code",
   "execution_count": 196,
   "metadata": {},
   "outputs": [],
   "source": [
    "layer_conv2, weights_conv2 = new_conv_layer(input=layer_conv1,\n",
    "                                            num_input_channels=num_filters1,\n",
    "                                            filter_size=filter_size2,\n",
    "                                            num_filters=num_filters2,\n",
    "                                            use_pooling=True)"
   ]
  },
  {
   "cell_type": "code",
   "execution_count": 197,
   "metadata": {},
   "outputs": [
    {
     "data": {
      "text/plain": [
       "<tf.Tensor 'Relu_10:0' shape=(?, 7, 7, 36) dtype=float32>"
      ]
     },
     "execution_count": 197,
     "metadata": {},
     "output_type": "execute_result"
    }
   ],
   "source": [
    "# check the output shape of the convolutional layer2\n",
    "layer_conv2"
   ]
  },
  {
   "cell_type": "markdown",
   "metadata": {},
   "source": [
    "## Flatten Layer which is prepare for the fully-connected layer\n",
    "The convolutional layers output 4-D tensors. We now wish to use these as input in a fully-connected network, which requires for the tensors to be reshaped or flattened to 2-D tensors."
   ]
  },
  {
   "cell_type": "code",
   "execution_count": 198,
   "metadata": {},
   "outputs": [],
   "source": [
    "layer_flat, num_features = flatten_layer(layer_conv2)"
   ]
  },
  {
   "cell_type": "markdown",
   "metadata": {},
   "source": [
    "check that the tensor now have shape (?, 1764) which means there's an arbitrary number of images which have been flattened to vectors of length 1764 each. Note that 1764 = 7x7x36"
   ]
  },
  {
   "cell_type": "code",
   "execution_count": 199,
   "metadata": {},
   "outputs": [
    {
     "data": {
      "text/plain": [
       "<tf.Tensor 'Reshape_17:0' shape=(?, 1764) dtype=float32>"
      ]
     },
     "execution_count": 199,
     "metadata": {},
     "output_type": "execute_result"
    }
   ],
   "source": [
    "layer_flat"
   ]
  },
  {
   "cell_type": "code",
   "execution_count": 200,
   "metadata": {},
   "outputs": [
    {
     "data": {
      "text/plain": [
       "1764"
      ]
     },
     "execution_count": 200,
     "metadata": {},
     "output_type": "execute_result"
    }
   ],
   "source": [
    "num_features"
   ]
  },
  {
   "cell_type": "markdown",
   "metadata": {},
   "source": [
    "## Fully-connected layer 1\n",
    "add a fully-connected layer to the network. The input is the flattened layer from the previous convolution. The numeber of neurons or nodes in the fully-connected connected layer is fc_size. ReLU is used so that we can learn non-linear relation."
   ]
  },
  {
   "cell_type": "code",
   "execution_count": 201,
   "metadata": {},
   "outputs": [],
   "source": [
    "layer_fc1 = new_fc_layer(input=layer_flat,\n",
    "                         num_inputs=num_features, # for one image, there will be num_features as input\n",
    "                         num_outputs=fc_size,\n",
    "                         use_relu=True)"
   ]
  },
  {
   "cell_type": "code",
   "execution_count": 202,
   "metadata": {},
   "outputs": [
    {
     "data": {
      "text/plain": [
       "<tf.Tensor 'Relu_11:0' shape=(?, 128) dtype=float32>"
      ]
     },
     "execution_count": 202,
     "metadata": {},
     "output_type": "execute_result"
    }
   ],
   "source": [
    "# output the fully-connected layer shape\n",
    "layer_fc1"
   ]
  },
  {
   "cell_type": "markdown",
   "metadata": {},
   "source": [
    "## fully-connected layer 2\n",
    "add fully-connected layer that outputs vectors of length 10 for determining which of the 10 classes the input image belongs to. Note that ReLU is not used in this layer"
   ]
  },
  {
   "cell_type": "code",
   "execution_count": 203,
   "metadata": {},
   "outputs": [],
   "source": [
    "layer_fc2 = new_fc_layer(input=layer_fc1,\n",
    "                         num_inputs=fc_size,\n",
    "                         num_outputs=num_classes,\n",
    "                         use_relu=False)"
   ]
  },
  {
   "cell_type": "code",
   "execution_count": 204,
   "metadata": {},
   "outputs": [
    {
     "data": {
      "text/plain": [
       "<tf.Tensor 'add_15:0' shape=(?, 10) dtype=float32>"
      ]
     },
     "execution_count": 204,
     "metadata": {},
     "output_type": "execute_result"
    }
   ],
   "source": [
    "layer_fc2"
   ]
  },
  {
   "cell_type": "markdown",
   "metadata": {},
   "source": [
    "## predicted classes\n",
    "The second fully-connected layer estimates how likely that the input image belongs to each of the 10 classes. However, this is very diffcult to interprete because the numbers may be very small or large, so we want to normalize them so that each elements is limited between 0 and 1. And the 10 elements sum to 1. This is calculated using the so-called softmax function and the result is stored in y_pred."
   ]
  },
  {
   "cell_type": "code",
   "execution_count": 205,
   "metadata": {},
   "outputs": [],
   "source": [
    "y_pred = tf.nn.softmax(layer_fc2)"
   ]
  },
  {
   "cell_type": "code",
   "execution_count": 206,
   "metadata": {},
   "outputs": [],
   "source": [
    "# the class-number is the index of the largest element\n",
    "y_pred_cls = tf.argmax(y_pred, axis=1)"
   ]
  },
  {
   "cell_type": "markdown",
   "metadata": {},
   "source": [
    "## cost-function to be optimized\n",
    "<p>The cross-entropy is a performance measure used in classification. The cross-entropy is a continuous function that is always positive and if predicted output of the model exactly matches the desired output then the cross-entropy equals to 0. The goal of optimization is therefore to minimize the cross-entropy so it gets as close to 0 as possible by changing the variables of the network layers.</p>\n",
    "Note that the build-in function to compute cross-entropy in the TensorFlow calculates the softmax internally so we must use the output of layer_fc2 directly rather than y_pred which has already has the softmax applied."
   ]
  },
  {
   "cell_type": "code",
   "execution_count": 207,
   "metadata": {},
   "outputs": [],
   "source": [
    "cross_entropy = tf.nn.softmax_cross_entropy_with_logits(logits=layer_fc2, labels=y_true)"
   ]
  },
  {
   "cell_type": "code",
   "execution_count": 208,
   "metadata": {},
   "outputs": [],
   "source": [
    "cost = tf.reduce_mean(cross_entropy)"
   ]
  },
  {
   "cell_type": "markdown",
   "metadata": {},
   "source": [
    "## optimization method\n",
    "<p>Now we have a cost measure that must be minimized, we can create an optimizer. In this case it is the AdamOptimizer which is an advanced form of Gradient Descent</p>\n",
    "Note that optimization is not performed at this point, nothing is calculated at all, we just add the optimizer-obeject to the TensorFlow graph for later excution"
   ]
  },
  {
   "cell_type": "code",
   "execution_count": 209,
   "metadata": {},
   "outputs": [],
   "source": [
    "optimizer = tf.train.AdamOptimizer(learning_rate=1e-4).minimize(cost)"
   ]
  },
  {
   "cell_type": "markdown",
   "metadata": {},
   "source": [
    "## performance measures"
   ]
  },
  {
   "cell_type": "code",
   "execution_count": 210,
   "metadata": {},
   "outputs": [],
   "source": [
    "correct_prediction = tf.equal(y_pred_cls, y_true_cls)"
   ]
  },
  {
   "cell_type": "code",
   "execution_count": 211,
   "metadata": {},
   "outputs": [],
   "source": [
    "accuracy = tf.reduce_mean(tf.cast(correct_prediction, tf.float32))"
   ]
  },
  {
   "cell_type": "markdown",
   "metadata": {},
   "source": [
    "# TensorFlow Run"
   ]
  },
  {
   "cell_type": "markdown",
   "metadata": {},
   "source": [
    "## create TensorFlow session\n",
    "Once the TensorFlow graph has been created, we have to create a TensorFlow session which is used to execute the graph."
   ]
  },
  {
   "cell_type": "code",
   "execution_count": 212,
   "metadata": {},
   "outputs": [],
   "source": [
    "session = tf.Session()"
   ]
  },
  {
   "cell_type": "markdown",
   "metadata": {},
   "source": [
    "## initialize variables\n",
    "The variables for weights and biases must be initialized"
   ]
  },
  {
   "cell_type": "code",
   "execution_count": 213,
   "metadata": {},
   "outputs": [],
   "source": [
    "session.run(tf.global_variables_initializer())"
   ]
  },
  {
   "cell_type": "markdown",
   "metadata": {},
   "source": [
    "## helper-function to perform oprimization iterations"
   ]
  },
  {
   "cell_type": "code",
   "execution_count": 214,
   "metadata": {},
   "outputs": [],
   "source": [
    "train_batch_size = 64"
   ]
  },
  {
   "cell_type": "markdown",
   "metadata": {},
   "source": [
    "Function for performing a number of iterations so as to gradually improve the variables of the network layers. In each iteration, a new batch of data is selected from the trainining-set and then TensorFlow executes the optimizer using those training examples. The progress is printed every 100 iterations."
   ]
  },
  {
   "cell_type": "code",
   "execution_count": 215,
   "metadata": {},
   "outputs": [],
   "source": [
    "# counter for total number of iterations performed so far\n",
    "total_itrations = 0\n",
    "\n",
    "def optimize(num_iterations):\n",
    "    # ensure we update the global variable rather than a local copy\n",
    "    global total_itrations\n",
    "    \n",
    "    # count time usage\n",
    "    start_time = time.time()\n",
    "    \n",
    "    for i in range(total_itrations, total_itrations + num_iterations):\n",
    "        \n",
    "        # get a batch of training examples.\n",
    "        # x_batch holds a batch of images and \n",
    "        # y_true_batch are the true labels for those images\n",
    "        x_batch, y_true_batch = data.train.next_batch(train_batch_size)\n",
    "        \n",
    "        # put the batch into a dict with the proper names for placeholder\n",
    "        # variables in the TensorFlow graph.\n",
    "        feed_dict_train = {x: x_batch, y_true: y_true_batch}\n",
    "        \n",
    "        # run the optimizer. TensorFlow assigns the variables to\n",
    "        # the placeholder variables and then runs the optimizer\n",
    "        session.run(optimizer, feed_dict=feed_dict_train)\n",
    "        \n",
    "        # print status every 100 iterations\n",
    "        if i % 100 == 0:\n",
    "            # calculate the accuracy on the training-set\n",
    "            acc = session.run(accuracy, feed_dict=feed_dict_train)\n",
    "            \n",
    "            # message for printing\n",
    "            msg = \"optimization iteration: {0:>6}, Training Accuracy: {1:>6.1%}\"\n",
    "            \n",
    "            # print it\n",
    "            print(msg.format(i + 1, acc))\n",
    "    \n",
    "    # update the total number of iterations performed\n",
    "    total_itrations += num_iterations\n",
    "    \n",
    "    # ending time\n",
    "    end_time = time.time()\n",
    "    \n",
    "    # difference between start and end time\n",
    "    time_diff = end_time - start_time\n",
    "    \n",
    "    # print the time-usage\n",
    "    print(\"Time usage:\" + str(timedelta(seconds=int(time_diff))))"
   ]
  },
  {
   "cell_type": "markdown",
   "metadata": {},
   "source": [
    "## helper-function to plot example errors\n",
    "Function for plotting examples of images from the test-set that have mis-classified"
   ]
  },
  {
   "cell_type": "code",
   "execution_count": 216,
   "metadata": {},
   "outputs": [],
   "source": [
    "def plot_example_errors(cls_pred, correct):\n",
    "    # negate the boolean array\n",
    "    incorrect = (correct == False)\n",
    "    \n",
    "    # get the image from the test-set for those images\n",
    "    images = data.test.images[incorrect]\n",
    "    \n",
    "    # get the predicted classes for those images\n",
    "    cls_pred = cls_pred[incorrect]\n",
    "    \n",
    "    # get the true classes for those images\n",
    "    cls_true = data.test.cls[incorrect]\n",
    "    \n",
    "    # plot the first 9 images\n",
    "    plot_images(images=images[0:9],\n",
    "                cls_true=cls_true[0:9],\n",
    "                cls_pred=cls_pred[0:9])"
   ]
  },
  {
   "cell_type": "markdown",
   "metadata": {},
   "source": [
    "## helper-function to plot confusion matrix"
   ]
  },
  {
   "cell_type": "code",
   "execution_count": 227,
   "metadata": {},
   "outputs": [],
   "source": [
    "def plot_confusion_matrix(cls_pred):\n",
    "    \n",
    "    # get the true classifications for the test-set\n",
    "    cls_true = data.test.cls\n",
    "    \n",
    "    # get the confusion matrix using sklearn\n",
    "    cm = confusion_matrix(y_true=cls_true, y_pred=cls_pred)\n",
    "    \n",
    "    # print the confusion matrix as text\n",
    "    print(cm)\n",
    "    \n",
    "    # plot the confusion matrix as an image\n",
    "    plt.matshow(cm)\n",
    "    plt.colorbar()\n",
    "    tick_marks = np.arange(num_classes)\n",
    "    plt.xticks(tick_marks, range(num_classes))\n",
    "    plt.yticks(tick_marks, range(num_classes))\n",
    "    plt.xlabel('Predicted')\n",
    "    plt.ylabel('True')\n",
    "    \n",
    "    # show the plot\n",
    "    plt.show()"
   ]
  },
  {
   "cell_type": "markdown",
   "metadata": {},
   "source": [
    "## helper-function for showing the performance\n",
    "function for printing the classification accuracy on the test-set"
   ]
  },
  {
   "cell_type": "code",
   "execution_count": 218,
   "metadata": {},
   "outputs": [],
   "source": [
    "# split the test-set into smaller batches of this size\n",
    "test_batch_size = 256\n",
    "\n",
    "def print_test_accuracy(show_example_errors=False, show_confusion_matrix=False):\n",
    "    \n",
    "    # number of images in the test-set\n",
    "    num_test = len(data.test.images)\n",
    "    \n",
    "    # allocate an array for the predicted classes which will be calculated in batches and\n",
    "    # filled into this array.\n",
    "    cls_pred = np.zeros(shape=num_test, dtype=np.int)\n",
    "    \n",
    "    # calculate the predicted classes for the batches.\n",
    "    # we will just iterate through all batches.\n",
    "    # There might be a clever and Pythonic may of doing this\n",
    "    \n",
    "    # the starting index for the next batch is denoted i\n",
    "    i = 0\n",
    "    \n",
    "    while i < num_test:\n",
    "        # the ending index for the next batch is denoted j\n",
    "        j = min(i + test_batch_size, num_test)\n",
    "        \n",
    "        # get the images from the test-set between index i and j\n",
    "        images = data.test.images[i:j, :]\n",
    "        labels = data.test.labels[i:j, :]\n",
    "        \n",
    "        # create a feed-dict with these images and labels\n",
    "        feed_dict = {x: images, y_true: labels}\n",
    "        \n",
    "        # calculate the predicted class using TensorFlow\n",
    "        cls_pred[i:j] = session.run(y_pred_cls, feed_dict=feed_dict)\n",
    "        \n",
    "        # set the start-index for the next batch to the end-index of the current batch\n",
    "        i = j\n",
    "    \n",
    "    # convenience variable for the true class numbers of the test-set\n",
    "    cls_true = data.test.cls\n",
    "    \n",
    "    # create a boolean array whether each image is correctly classified\n",
    "    correct = (cls_true == cls_pred)\n",
    "    \n",
    "    # calculate the number of correctly classified images\n",
    "    correct_sum = correct.sum()\n",
    "    \n",
    "    # calculate the correct accuracy\n",
    "    acc = float(correct_sum) / num_test\n",
    "    \n",
    "    # print the accuracy\n",
    "    msg = \"Accuracy on Test-Set:{0:.1%}({1} / {2})\"\n",
    "    print(msg.format(acc, correct_sum, num_test))\n",
    "    \n",
    "    # plot some examples of mis-classifications, if desired\n",
    "    if show_example_errors:\n",
    "        print(\"Example errors:\")\n",
    "        plot_example_errors(cls_pred=cls_pred, correct=correct)\n",
    "    \n",
    "    # plot the confusion matrix, if desired\n",
    "    if show_confusion_matrix:\n",
    "        print(\"Confusion matrix:\")\n",
    "        plot_confusion_matrix(cls_pred=cls_pred)"
   ]
  },
  {
   "cell_type": "markdown",
   "metadata": {},
   "source": [
    "## performance before any optimization\n",
    "The accuracy on the test-set is very low because the model variables have only been initialized and not optimized at all, so it just classifies the images randomly."
   ]
  },
  {
   "cell_type": "code",
   "execution_count": 219,
   "metadata": {
    "collapsed": true
   },
   "outputs": [
    {
     "name": "stdout",
     "output_type": "stream",
     "text": [
      "Accuracy on Test-Set:10.5%(1048 / 10000)\n"
     ]
    }
   ],
   "source": [
    "print_test_accuracy()"
   ]
  },
  {
   "cell_type": "markdown",
   "metadata": {},
   "source": [
    "## performance after 1 optimization iterations\n",
    "The classification accuracy does not improve much from just 1 optimization iteration, because the learning-rate for the optimizer is set very low."
   ]
  },
  {
   "cell_type": "code",
   "execution_count": 220,
   "metadata": {
    "collapsed": false
   },
   "outputs": [
    {
     "name": "stdout",
     "output_type": "stream",
     "text": [
      "optimization iteration:      1, Training Accuracy:   9.4%\nTime usage:0:00:00\n"
     ]
    }
   ],
   "source": [
    "optimize(num_iterations=1)"
   ]
  },
  {
   "cell_type": "code",
   "execution_count": 221,
   "metadata": {},
   "outputs": [
    {
     "name": "stdout",
     "output_type": "stream",
     "text": [
      "Accuracy on Test-Set:12.6%(1260 / 10000)\n"
     ]
    }
   ],
   "source": [
    "print_test_accuracy()"
   ]
  },
  {
   "cell_type": "markdown",
   "metadata": {},
   "source": [
    "## performance after 100 optimization iterations\n",
    "After 100 optimization iterations, the model has significantly improved its classification accuracy."
   ]
  },
  {
   "cell_type": "code",
   "execution_count": 222,
   "metadata": {},
   "outputs": [
    {
     "name": "stdout",
     "output_type": "stream",
     "text": [
      "Time usage:0:00:07\n"
     ]
    }
   ],
   "source": [
    "optimize(num_iterations=99) # we already performed 1 iteration above"
   ]
  },
  {
   "cell_type": "code",
   "execution_count": 223,
   "metadata": {},
   "outputs": [
    {
     "name": "stdout",
     "output_type": "stream",
     "text": [
      "Accuracy on Test-Set:67.2%(6725 / 10000)\nExample errors:\n"
     ]
    },
    {
     "data": {
      "image/png": "[encoded data removed]",
      "text/plain": [
       "<matplotlib.figure.Figure at 0x12333abd0>"
      ]
     },
     "metadata": {},
     "output_type": "display_data"
    }
   ],
   "source": [
    "print_test_accuracy(show_example_errors=True)"
   ]
  },
  {
   "cell_type": "markdown",
   "metadata": {},
   "source": [
    "## performance after 1000 optimization iterations"
   ]
  },
  {
   "cell_type": "code",
   "execution_count": 224,
   "metadata": {},
   "outputs": [
    {
     "name": "stdout",
     "output_type": "stream",
     "text": [
      "optimization iteration:    101, Training Accuracy:  62.5%\n"
     ]
    },
    {
     "name": "stdout",
     "output_type": "stream",
     "text": [
      "optimization iteration:    201, Training Accuracy:  82.8%\n"
     ]
    },
    {
     "name": "stdout",
     "output_type": "stream",
     "text": [
      "optimization iteration:    301, Training Accuracy:  95.3%\n"
     ]
    },
    {
     "name": "stdout",
     "output_type": "stream",
     "text": [
      "optimization iteration:    401, Training Accuracy:  89.1%\n"
     ]
    },
    {
     "name": "stdout",
     "output_type": "stream",
     "text": [
      "optimization iteration:    501, Training Accuracy:  87.5%\n"
     ]
    },
    {
     "name": "stdout",
     "output_type": "stream",
     "text": [
      "optimization iteration:    601, Training Accuracy:  85.9%\n"
     ]
    },
    {
     "name": "stdout",
     "output_type": "stream",
     "text": [
      "optimization iteration:    701, Training Accuracy:  90.6%\n"
     ]
    },
    {
     "name": "stdout",
     "output_type": "stream",
     "text": [
      "optimization iteration:    801, Training Accuracy:  92.2%\n"
     ]
    },
    {
     "name": "stdout",
     "output_type": "stream",
     "text": [
      "optimization iteration:    901, Training Accuracy:  93.8%\n"
     ]
    },
    {
     "name": "stdout",
     "output_type": "stream",
     "text": [
      "Time usage:0:01:24\n"
     ]
    }
   ],
   "source": [
    "optimize(num_iterations=900) # we already performed 1000 iterations above"
   ]
  },
  {
   "cell_type": "code",
   "execution_count": 228,
   "metadata": {},
   "outputs": [
    {
     "name": "stdout",
     "output_type": "stream",
     "text": [
      "Accuracy on Test-Set:92.8%(9281 / 10000)\nExample errors:\n"
     ]
    },
    {
     "data": {
      "image/png": "[encoded data removed]",
      "text/plain": [
       "<matplotlib.figure.Figure at 0x1255cc710>"
      ]
     },
     "metadata": {},
     "output_type": "display_data"
    },
    {
     "name": "stdout",
     "output_type": "stream",
     "text": [
      "Confusion matrix:\n[[ 954    0    0    5    0    4    8    1    8    0]\n [   0 1107    3    4    1    1    4    0   15    0]\n [  13    1  902   34   16    0   13   20   31    2]\n [   1    0    6  961    0    9    0   11   16    6]\n [   0    1    3    0  932    0    9    1    3   33]\n [   7    2    2   42   10  786   15    1   22    5]\n [  13    3    2    0   14   17  902    1    6    0]\n [   0    8   19    7    6    0    1  933    3   51]\n [   7    2    3   29   11   13    4   11  881   13]\n [  11    5    3   12   31    5    0   14    5  923]]\n"
     ]
    },
    {
     "data": {
      "image/png": "[encoded data removed]",
      "text/plain": [
       "<matplotlib.figure.Figure at 0x124893bd0>"
      ]
     },
     "metadata": {},
     "output_type": "display_data"
    }
   ],
   "source": [
    "print_test_accuracy(show_example_errors=True, show_confusion_matrix=True)"
   ]
  },
  {
   "cell_type": "markdown",
   "metadata": {},
   "source": [
    "# Visualization of weights and layers\n",
    "In trying to understand why the convolutional neural network can recognize handwritten digits, we will now visualize the weights of the convolutional filters and the resulting output images."
   ]
  },
  {
   "cell_type": "markdown",
   "metadata": {},
   "source": [
    "## helper-function for plotting convolutional weights"
   ]
  },
  {
   "cell_type": "code",
   "execution_count": 230,
   "metadata": {},
   "outputs": [],
   "source": [
    "def plot_conv_weights(weights, input_channel1=0):\n",
    "    # assume weights are TensorFlow ops for 4-dim variables\n",
    "    # e.g. weights_conv1 or weights_conv2\n",
    "    \n",
    "    # retrieve the values of the weight-variables from TensorFlow\n",
    "    # A feed-dict is not necessary since nothing is calculated\n",
    "    w = session.run(weights)\n",
    "    \n",
    "    # get the lowest and highest values for the weights\n",
    "    # This is used to correct the colour intensity across\n",
    "    # the images so they can be compared with each other.\n",
    "    w_min = np.min(w)\n",
    "    w_max = np.max(w)\n",
    "    \n",
    "    # number of filters used in the conv. layer ??????????????\n",
    "    num_filters = w.shape[3]\n",
    "    \n",
    "    # number of grids to plot\n",
    "    # rounded-up, square-root of the number of filters\n",
    "    num_grids = math.ceil(math.sqrt(num_filters))\n",
    "    \n",
    "    # create figure with a grid of subplots\n",
    "    fig, axes = plt.subplot(num_grids, num_grids)\n",
    "    \n",
    "    # plot all the filter-weights\n",
    "    for i, ax in enumerate(axes.flat):\n",
    "        if i < num_filters:\n",
    "            # get the weights for the i'th filter of the input channel\n",
    "            # see new_conv_layer() for details on the format of 4-dim tensor\n",
    "            img = w[:, :, input_channel1, i]\n",
    "            \n",
    "            # plot image\n",
    "            ax.imshow(img, vmin=w_min, vmax=w_max, interpolation='nearest', cmap='seismic')\n",
    "        \n",
    "        # remove ticks from the plot\n",
    "        ax.set_xticks([])\n",
    "        ax.set_yticks([])\n",
    "    \n",
    "    # show the plot\n",
    "    plt.show()"
   ]
  },
  {
   "cell_type": "markdown",
   "metadata": {},
   "source": [
    "## Helper-function for plotting the output of a convolutional layer"
   ]
  },
  {
   "cell_type": "markdown",
   "metadata": {},
   "source": [
    "## helper-function for plotting the output of a convolutional layer"
   ]
  },
  {
   "cell_type": "code",
   "execution_count": 231,
   "metadata": {},
   "outputs": [],
   "source": [
    "def plot_conv_layer(layer, image):\n",
    "    # Assume layer is a TensorFlow op that outputs a 4-dim tensor\n",
    "    # which is the output of a convolutional layer,\n",
    "    # e.g. layer_conv1 or layer_conv2.\n",
    "    \n",
    "    # create a feed-dict containing just one image\n",
    "    # note that we don't need to feed y_true because\n",
    "    # it is not used in this calculation.\n",
    "    feed_dict = {x: [image]}\n",
    "    \n",
    "    # create and retrieve the output values of the layer\n",
    "    # when inputting that image\n",
    "    values = session.run(layer, feed_dict=feed_dict)\n",
    "    \n",
    "    # number of filters used in the conv. layer\n",
    "    num_filters = values.shape[3]\n",
    "    \n",
    "    # number of grids to plot\n",
    "    # rounded-up, square root of the number of filters\n",
    "    num_grids = math.ceil(math.sqrt(num_filters))\n",
    "    \n",
    "    # create figure with a grid of sub-plots\n",
    "    fig, axes = plot.subplots(num_grids, num_grids)\n",
    "    \n",
    "    # plot the output images of all the filters\n",
    "    for i, ax in enumerate(axes):\n",
    "        # only plot the images for valid filters\n",
    "        if i < num_filters:\n",
    "            # get the output image of using the i'th filter.\n",
    "            # see new_conv_layer() for details on the format\n",
    "            # of this 4-dim tensor\n",
    "            img = values[0, :, :, i]\n",
    "            \n",
    "            # plot the image\n",
    "            ax.imshow(img, interpolation='nearest', cmap='binary')\n",
    "        \n",
    "        # remove ticks from the plot.\n",
    "        ax.set_xticks([])\n",
    "        ax.set_yticks([])\n",
    "    \n",
    "    # ensure the plot is shown correctly with multiple plots\n",
    "    # in a single Notbook cell\n",
    "    plt.show()"
   ]
  },
  {
   "cell_type": "markdown",
   "metadata": {},
   "source": [
    "## input images\n",
    "helper-function for plotting an image"
   ]
  },
  {
   "cell_type": "code",
   "execution_count": 232,
   "metadata": {},
   "outputs": [],
   "source": [
    "def plot_image(image):\n",
    "    plt.imshow(image.reshape(img_shape), interpolation='nearest', cmap='binary')\n",
    "    plt.show()"
   ]
  },
  {
   "cell_type": "markdown",
   "metadata": {},
   "source": [
    "plot an image from the test-set which will be used as an example below"
   ]
  },
  {
   "cell_type": "code",
   "execution_count": 233,
   "metadata": {},
   "outputs": [
    {
     "data": {
      "image/png": "[encoded data removed]",
      "text/plain": [
       "<matplotlib.figure.Figure at 0x12801b690>"
      ]
     },
     "metadata": {},
     "output_type": "display_data"
    }
   ],
   "source": [
    "image1 = data.test.images[0]\n",
    "plot_image(image1)"
   ]
  },
  {
   "cell_type": "code",
   "execution_count": 235,
   "metadata": {},
   "outputs": [
    {
     "data": {
      "image/png": "[encoded data removed]",
      "text/plain": [
       "<matplotlib.figure.Figure at 0x1269b2950>"
      ]
     },
     "metadata": {},
     "output_type": "display_data"
    }
   ],
   "source": [
    "image2 = data.test.images[13]\n",
    "plot_image(image2)"
   ]
  },
  {
   "cell_type": "code",
   "execution_count": null,
   "metadata": {},
   "outputs": [],
   "source": []
  }
 ],
 "metadata": {
  "kernelspec": {
   "display_name": "Python 2",
   "language": "python",
   "name": "python2"
  },
  "language_info": {
   "codemirror_mode": {
    "name": "ipython",
    "version": 2
   },
   "file_extension": ".py",
   "mimetype": "text/x-python",
   "name": "python",
   "nbconvert_exporter": "python",
   "pygments_lexer": "ipython2",
   "version": "2.7.6"
  }
 },
 "nbformat": 4,
 "nbformat_minor": 0
}
